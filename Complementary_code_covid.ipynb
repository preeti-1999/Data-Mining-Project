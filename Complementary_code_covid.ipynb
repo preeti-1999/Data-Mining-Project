{
  "nbformat": 4,
  "nbformat_minor": 0,
  "metadata": {
    "colab": {
      "name": "Copy of Copy of complementary_code_covid.ipynb",
      "provenance": [],
      "collapsed_sections": [],
      "toc_visible": true,
      "machine_shape": "hm"
    },
    "kernelspec": {
      "name": "python3",
      "display_name": "Python 3"
    }
  },
  "cells": [
    {
      "cell_type": "markdown",
      "metadata": {
        "id": "S6TTn_99cZBU"
      },
      "source": [
        "# The spread of COVID-19 conspiracy theories on social media and the effect of content moderation\n",
        "\n"
      ]
    },
    {
      "cell_type": "markdown",
      "metadata": {
        "id": "wFodi5sxiPoq"
      },
      "source": [
        "**Define the path to the files:**"
      ]
    },
    {
      "cell_type": "code",
      "metadata": {
        "colab": {
          "base_uri": "https://localhost:8080/"
        },
        "id": "FPBrBlX2k6sV",
        "outputId": "7ca9aba2-d23e-4c00-88be-bf721aa1b81f"
      },
      "source": [
        "%cd /content/COVID19_conspiracy_theories"
      ],
      "execution_count": null,
      "outputs": [
        {
          "output_type": "stream",
          "text": [
            "/content/COVID19_conspiracy_theories\n"
          ],
          "name": "stdout"
        }
      ]
    },
    {
      "cell_type": "code",
      "metadata": {
        "id": "CLVybJXWk8Dw"
      },
      "source": [
        "path = \"/content/COVID19_conspiracy_theories/\""
      ],
      "execution_count": null,
      "outputs": []
    },
    {
      "cell_type": "markdown",
      "metadata": {
        "id": "Ablbo5ImWfHI"
      },
      "source": [
        "Necessary libraries:"
      ]
    },
    {
      "cell_type": "code",
      "metadata": {
        "id": "k5066oXeeqwW",
        "colab": {
          "base_uri": "https://localhost:8080/"
        },
        "outputId": "0151051d-b027-4ccf-8bcd-d7aa191046f0"
      },
      "source": [
        "import pandas as pd\n",
        "import matplotlib.pyplot as plt\n",
        "import warnings\n",
        "import pickle\n",
        "\n",
        "import matplotlib.colors as mcolors\n",
        "import matplotlib.ticker as ticker \n",
        "from mpl_toolkits.axes_grid1 import make_axes_locatable\n",
        "import numpy as np\n",
        "\n",
        "!pip install tick\n",
        "from tick.dataset import fetch_hawkes_bund_data\n",
        "from tick.hawkes import HawkesConditionalLaw\n",
        "from tick.plot import plot_hawkes_kernel_norms\n",
        "from tick.plot import plot_hawkes_kernels\n",
        "from tick.hawkes import HawkesSumGaussians, HawkesEM, HawkesSumExpKern, HawkesExpKern\n",
        "\n",
        "from google.colab import drive\n",
        "from google.colab import auth\n",
        "import gspread\n",
        "from oauth2client.client import GoogleCredentials"
      ],
      "execution_count": null,
      "outputs": [
        {
          "output_type": "stream",
          "text": [
            "Collecting tick\n",
            "\u001b[?25l  Downloading https://files.pythonhosted.org/packages/e0/32/fa3b3a7b89c433c9239c1e9ed7a3210c0bab53f2dc1b3444726c45f96238/tick-0.7.0.1-cp37-cp37m-manylinux2014_x86_64.whl (10.8MB)\n",
            "\u001b[K     |████████████████████████████████| 10.8MB 4.3MB/s \n",
            "\u001b[?25hRequirement already satisfied: numpy in /usr/local/lib/python3.7/dist-packages (from tick) (1.19.5)\n",
            "Requirement already satisfied: pandas in /usr/local/lib/python3.7/dist-packages (from tick) (1.1.5)\n",
            "Requirement already satisfied: dill in /usr/local/lib/python3.7/dist-packages (from tick) (0.3.3)\n",
            "Collecting numpydoc\n",
            "\u001b[?25l  Downloading https://files.pythonhosted.org/packages/60/1d/9e398c53d6ae27d5ab312ddc16a9ffe1bee0dfdf1d6ec88c40b0ca97582e/numpydoc-1.1.0-py3-none-any.whl (47kB)\n",
            "\u001b[K     |████████████████████████████████| 51kB 5.7MB/s \n",
            "\u001b[?25hRequirement already satisfied: sphinx in /usr/local/lib/python3.7/dist-packages (from tick) (1.8.5)\n",
            "Requirement already satisfied: scipy in /usr/local/lib/python3.7/dist-packages (from tick) (1.4.1)\n",
            "Requirement already satisfied: matplotlib in /usr/local/lib/python3.7/dist-packages (from tick) (3.2.2)\n",
            "Requirement already satisfied: scikit-learn in /usr/local/lib/python3.7/dist-packages (from tick) (0.22.2.post1)\n",
            "Requirement already satisfied: pytz>=2017.2 in /usr/local/lib/python3.7/dist-packages (from pandas->tick) (2018.9)\n",
            "Requirement already satisfied: python-dateutil>=2.7.3 in /usr/local/lib/python3.7/dist-packages (from pandas->tick) (2.8.1)\n",
            "Requirement already satisfied: Jinja2>=2.3 in /usr/local/lib/python3.7/dist-packages (from numpydoc->tick) (2.11.3)\n",
            "Requirement already satisfied: requests>=2.0.0 in /usr/local/lib/python3.7/dist-packages (from sphinx->tick) (2.23.0)\n",
            "Requirement already satisfied: packaging in /usr/local/lib/python3.7/dist-packages (from sphinx->tick) (20.9)\n",
            "Requirement already satisfied: snowballstemmer>=1.1 in /usr/local/lib/python3.7/dist-packages (from sphinx->tick) (2.1.0)\n",
            "Requirement already satisfied: docutils>=0.11 in /usr/local/lib/python3.7/dist-packages (from sphinx->tick) (0.16)\n",
            "Requirement already satisfied: imagesize in /usr/local/lib/python3.7/dist-packages (from sphinx->tick) (1.2.0)\n",
            "Requirement already satisfied: alabaster<0.8,>=0.7 in /usr/local/lib/python3.7/dist-packages (from sphinx->tick) (0.7.12)\n",
            "Requirement already satisfied: setuptools in /usr/local/lib/python3.7/dist-packages (from sphinx->tick) (54.0.0)\n",
            "Requirement already satisfied: six>=1.5 in /usr/local/lib/python3.7/dist-packages (from sphinx->tick) (1.15.0)\n",
            "Requirement already satisfied: babel!=2.0,>=1.3 in /usr/local/lib/python3.7/dist-packages (from sphinx->tick) (2.9.0)\n",
            "Requirement already satisfied: sphinxcontrib-websupport in /usr/local/lib/python3.7/dist-packages (from sphinx->tick) (1.2.4)\n",
            "Requirement already satisfied: Pygments>=2.0 in /usr/local/lib/python3.7/dist-packages (from sphinx->tick) (2.6.1)\n",
            "Requirement already satisfied: cycler>=0.10 in /usr/local/lib/python3.7/dist-packages (from matplotlib->tick) (0.10.0)\n",
            "Requirement already satisfied: pyparsing!=2.0.4,!=2.1.2,!=2.1.6,>=2.0.1 in /usr/local/lib/python3.7/dist-packages (from matplotlib->tick) (2.4.7)\n",
            "Requirement already satisfied: kiwisolver>=1.0.1 in /usr/local/lib/python3.7/dist-packages (from matplotlib->tick) (1.3.1)\n",
            "Requirement already satisfied: joblib>=0.11 in /usr/local/lib/python3.7/dist-packages (from scikit-learn->tick) (1.0.1)\n",
            "Requirement already satisfied: MarkupSafe>=0.23 in /usr/local/lib/python3.7/dist-packages (from Jinja2>=2.3->numpydoc->tick) (1.1.1)\n",
            "Requirement already satisfied: idna<3,>=2.5 in /usr/local/lib/python3.7/dist-packages (from requests>=2.0.0->sphinx->tick) (2.10)\n",
            "Requirement already satisfied: certifi>=2017.4.17 in /usr/local/lib/python3.7/dist-packages (from requests>=2.0.0->sphinx->tick) (2020.12.5)\n",
            "Requirement already satisfied: chardet<4,>=3.0.2 in /usr/local/lib/python3.7/dist-packages (from requests>=2.0.0->sphinx->tick) (3.0.4)\n",
            "Requirement already satisfied: urllib3!=1.25.0,!=1.25.1,<1.26,>=1.21.1 in /usr/local/lib/python3.7/dist-packages (from requests>=2.0.0->sphinx->tick) (1.24.3)\n",
            "Requirement already satisfied: sphinxcontrib-serializinghtml in /usr/local/lib/python3.7/dist-packages (from sphinxcontrib-websupport->sphinx->tick) (1.1.4)\n",
            "Installing collected packages: numpydoc, tick\n",
            "Successfully installed numpydoc-1.1.0 tick-0.7.0.1\n"
          ],
          "name": "stdout"
        }
      ]
    },
    {
      "cell_type": "code",
      "metadata": {
        "id": "cCWsNjBGVVY7"
      },
      "source": [
        "%matplotlib inline"
      ],
      "execution_count": null,
      "outputs": []
    },
    {
      "cell_type": "markdown",
      "metadata": {
        "id": "HWgn6ZRdV84Z"
      },
      "source": [
        "# Coding"
      ]
    },
    {
      "cell_type": "markdown",
      "metadata": {
        "id": "1ypAHsjfV-ec"
      },
      "source": [
        "We used the following coding for missinformation and source credibility:\n",
        "\n",
        "* **Missinformation**:\n",
        "\n",
        "\n",
        "0.   neutral or debunking content\n",
        "1.   content reinforcing conspiracy theories\n",
        "\n",
        "\n",
        "* **Source Credibility**:\n",
        "\n",
        "\n",
        "0.   mainstream\n",
        "1.   alternative\n",
        "2.   other\n",
        "\n",
        "* **Banning:**\n",
        "\n",
        "\n",
        "\n",
        "  *   **R** Removed\n",
        "  *   **F** Fact Check labeled\n",
        "\n",
        "\n",
        "\n",
        "\n",
        "\n",
        "\n"
      ]
    },
    {
      "cell_type": "markdown",
      "metadata": {
        "id": "y4RqWwcShr-z"
      },
      "source": [
        "# Finding 1"
      ]
    },
    {
      "cell_type": "code",
      "metadata": {
        "id": "0WeuU3TEezAn"
      },
      "source": [
        "with open(path + 'url_timestamps.pickle', 'rb') as handle:\n",
        "    df_multiplatform = pickle.load(handle)"
      ],
      "execution_count": null,
      "outputs": []
    },
    {
      "cell_type": "code",
      "metadata": {
        "colab": {
          "base_uri": "https://localhost:8080/",
          "height": 787
        },
        "id": "_WFY0ASBlTrU",
        "outputId": "f9c0bbdc-43d9-404a-b217-c29eb7e42a27"
      },
      "source": [
        "df_multiplatform.head(10)"
      ],
      "execution_count": null,
      "outputs": [
        {
          "output_type": "execute_result",
          "data": {
            "text/html": [
              "<div>\n",
              "<style scoped>\n",
              "    .dataframe tbody tr th:only-of-type {\n",
              "        vertical-align: middle;\n",
              "    }\n",
              "\n",
              "    .dataframe tbody tr th {\n",
              "        vertical-align: top;\n",
              "    }\n",
              "\n",
              "    .dataframe thead th {\n",
              "        text-align: right;\n",
              "    }\n",
              "</style>\n",
              "<table border=\"1\" class=\"dataframe\">\n",
              "  <thead>\n",
              "    <tr style=\"text-align: right;\">\n",
              "      <th></th>\n",
              "      <th>misinformation</th>\n",
              "      <th>source_credibility</th>\n",
              "      <th>twitter</th>\n",
              "      <th>facebook</th>\n",
              "      <th>reddit</th>\n",
              "      <th>4chan</th>\n",
              "      <th>twitter_dt</th>\n",
              "      <th>facebook_dt</th>\n",
              "      <th>reddit_dt</th>\n",
              "      <th>4chan_dt</th>\n",
              "      <th>twitter_order</th>\n",
              "      <th>facebook_order</th>\n",
              "      <th>reddit_order</th>\n",
              "      <th>4chan_order</th>\n",
              "      <th>reddit_banned</th>\n",
              "      <th>twitter_banned</th>\n",
              "      <th>facebook_banned</th>\n",
              "    </tr>\n",
              "  </thead>\n",
              "  <tbody>\n",
              "    <tr>\n",
              "      <th>0</th>\n",
              "      <td>1</td>\n",
              "      <td>1</td>\n",
              "      <td>0</td>\n",
              "      <td>1</td>\n",
              "      <td>0</td>\n",
              "      <td>0</td>\n",
              "      <td>None</td>\n",
              "      <td>[3633789.0]</td>\n",
              "      <td>None</td>\n",
              "      <td>None</td>\n",
              "      <td>NaN</td>\n",
              "      <td>1.0</td>\n",
              "      <td>NaN</td>\n",
              "      <td>NaN</td>\n",
              "      <td>None</td>\n",
              "      <td>None</td>\n",
              "      <td>19127    R\n",
              "Name: banned, dtype: object</td>\n",
              "    </tr>\n",
              "    <tr>\n",
              "      <th>1</th>\n",
              "      <td>1</td>\n",
              "      <td>1</td>\n",
              "      <td>0</td>\n",
              "      <td>2</td>\n",
              "      <td>0</td>\n",
              "      <td>0</td>\n",
              "      <td>None</td>\n",
              "      <td>[7759584.0, 7759389.0]</td>\n",
              "      <td>None</td>\n",
              "      <td>None</td>\n",
              "      <td>NaN</td>\n",
              "      <td>1.0</td>\n",
              "      <td>NaN</td>\n",
              "      <td>NaN</td>\n",
              "      <td>None</td>\n",
              "      <td>None</td>\n",
              "      <td>0    N\n",
              "1    N\n",
              "Name: banned, dtype: object</td>\n",
              "    </tr>\n",
              "    <tr>\n",
              "      <th>2</th>\n",
              "      <td>0</td>\n",
              "      <td>1</td>\n",
              "      <td>0</td>\n",
              "      <td>2</td>\n",
              "      <td>0</td>\n",
              "      <td>0</td>\n",
              "      <td>None</td>\n",
              "      <td>[4163407.0, 4163371.0]</td>\n",
              "      <td>None</td>\n",
              "      <td>None</td>\n",
              "      <td>NaN</td>\n",
              "      <td>1.0</td>\n",
              "      <td>NaN</td>\n",
              "      <td>NaN</td>\n",
              "      <td>None</td>\n",
              "      <td>None</td>\n",
              "      <td>19128    NaN\n",
              "19129    NaN\n",
              "Name: banned, dtype:...</td>\n",
              "    </tr>\n",
              "    <tr>\n",
              "      <th>3</th>\n",
              "      <td>1</td>\n",
              "      <td>1</td>\n",
              "      <td>1</td>\n",
              "      <td>2</td>\n",
              "      <td>0</td>\n",
              "      <td>0</td>\n",
              "      <td>[5170744.0]</td>\n",
              "      <td>[4824705.0, 4990729.0]</td>\n",
              "      <td>None</td>\n",
              "      <td>None</td>\n",
              "      <td>2.0</td>\n",
              "      <td>1.0</td>\n",
              "      <td>NaN</td>\n",
              "      <td>NaN</td>\n",
              "      <td>None</td>\n",
              "      <td>30583    R\n",
              "Name: banned, dtype: object</td>\n",
              "      <td>2    N\n",
              "3    N\n",
              "Name: banned, dtype: object</td>\n",
              "    </tr>\n",
              "    <tr>\n",
              "      <th>4</th>\n",
              "      <td>1</td>\n",
              "      <td>1</td>\n",
              "      <td>0</td>\n",
              "      <td>1</td>\n",
              "      <td>0</td>\n",
              "      <td>0</td>\n",
              "      <td>None</td>\n",
              "      <td>[7483764.0]</td>\n",
              "      <td>None</td>\n",
              "      <td>None</td>\n",
              "      <td>NaN</td>\n",
              "      <td>1.0</td>\n",
              "      <td>NaN</td>\n",
              "      <td>NaN</td>\n",
              "      <td>None</td>\n",
              "      <td>None</td>\n",
              "      <td>19130    N\n",
              "Name: banned, dtype: object</td>\n",
              "    </tr>\n",
              "    <tr>\n",
              "      <th>5</th>\n",
              "      <td>0</td>\n",
              "      <td>0</td>\n",
              "      <td>0</td>\n",
              "      <td>0</td>\n",
              "      <td>0</td>\n",
              "      <td>1</td>\n",
              "      <td>None</td>\n",
              "      <td>None</td>\n",
              "      <td>None</td>\n",
              "      <td>[2696114.0]</td>\n",
              "      <td>NaN</td>\n",
              "      <td>NaN</td>\n",
              "      <td>NaN</td>\n",
              "      <td>1.0</td>\n",
              "      <td>None</td>\n",
              "      <td>None</td>\n",
              "      <td>None</td>\n",
              "    </tr>\n",
              "    <tr>\n",
              "      <th>6</th>\n",
              "      <td>1</td>\n",
              "      <td>1</td>\n",
              "      <td>0</td>\n",
              "      <td>0</td>\n",
              "      <td>1</td>\n",
              "      <td>0</td>\n",
              "      <td>None</td>\n",
              "      <td>None</td>\n",
              "      <td>[2273265.0]</td>\n",
              "      <td>None</td>\n",
              "      <td>NaN</td>\n",
              "      <td>NaN</td>\n",
              "      <td>1.0</td>\n",
              "      <td>NaN</td>\n",
              "      <td>5345    N\n",
              "Name: banned, dtype: object</td>\n",
              "      <td>None</td>\n",
              "      <td>None</td>\n",
              "    </tr>\n",
              "    <tr>\n",
              "      <th>7</th>\n",
              "      <td>1</td>\n",
              "      <td>2</td>\n",
              "      <td>2</td>\n",
              "      <td>6</td>\n",
              "      <td>2</td>\n",
              "      <td>7</td>\n",
              "      <td>[3013319.0, 3013916.0]</td>\n",
              "      <td>[6757460.0, 3119117.0, 6757460.0, 3119117.0, 7...</td>\n",
              "      <td>[3027094.0, 3280819.0]</td>\n",
              "      <td>[3084269.0, 3022368.0, 3077024.0, 3023357.0, 3...</td>\n",
              "      <td>1.0</td>\n",
              "      <td>4.0</td>\n",
              "      <td>3.0</td>\n",
              "      <td>2.0</td>\n",
              "      <td>976     N\n",
              "1100    R\n",
              "Name: banned, dtype: object</td>\n",
              "      <td>45575    R\n",
              "45576    N\n",
              "Name: banned, dtype: object</td>\n",
              "      <td>4          N\n",
              "5          N\n",
              "6        NaN\n",
              "7      ...</td>\n",
              "    </tr>\n",
              "    <tr>\n",
              "      <th>11</th>\n",
              "      <td>0</td>\n",
              "      <td>2</td>\n",
              "      <td>1</td>\n",
              "      <td>0</td>\n",
              "      <td>0</td>\n",
              "      <td>126</td>\n",
              "      <td>[5175460.0]</td>\n",
              "      <td>None</td>\n",
              "      <td>None</td>\n",
              "      <td>[5344488.0, 5253740.0, 5267990.0, 5248645.0, 5...</td>\n",
              "      <td>2.0</td>\n",
              "      <td>NaN</td>\n",
              "      <td>NaN</td>\n",
              "      <td>1.0</td>\n",
              "      <td>None</td>\n",
              "      <td>82289    NaN\n",
              "Name: banned, dtype: object</td>\n",
              "      <td>None</td>\n",
              "    </tr>\n",
              "    <tr>\n",
              "      <th>12</th>\n",
              "      <td>0</td>\n",
              "      <td>0</td>\n",
              "      <td>0</td>\n",
              "      <td>1</td>\n",
              "      <td>0</td>\n",
              "      <td>314</td>\n",
              "      <td>None</td>\n",
              "      <td>[2827698.0]</td>\n",
              "      <td>None</td>\n",
              "      <td>[3093249.0, 5575670.0, 4889393.0, 4864542.0, 2...</td>\n",
              "      <td>NaN</td>\n",
              "      <td>2.0</td>\n",
              "      <td>NaN</td>\n",
              "      <td>1.0</td>\n",
              "      <td>None</td>\n",
              "      <td>None</td>\n",
              "      <td>40503    NaN\n",
              "Name: banned, dtype: object</td>\n",
              "    </tr>\n",
              "  </tbody>\n",
              "</table>\n",
              "</div>"
            ],
            "text/plain": [
              "   misinformation  ...                                    facebook_banned\n",
              "0               1  ...             19127    R\n",
              "Name: banned, dtype: object\n",
              "1               1  ...          0    N\n",
              "1    N\n",
              "Name: banned, dtype: object\n",
              "2               0  ...  19128    NaN\n",
              "19129    NaN\n",
              "Name: banned, dtype:...\n",
              "3               1  ...          2    N\n",
              "3    N\n",
              "Name: banned, dtype: object\n",
              "4               1  ...             19130    N\n",
              "Name: banned, dtype: object\n",
              "5               0  ...                                               None\n",
              "6               1  ...                                               None\n",
              "7               1  ...  4          N\n",
              "5          N\n",
              "6        NaN\n",
              "7      ...\n",
              "11              0  ...                                               None\n",
              "12              0  ...           40503    NaN\n",
              "Name: banned, dtype: object\n",
              "\n",
              "[10 rows x 17 columns]"
            ]
          },
          "metadata": {
            "tags": []
          },
          "execution_count": 7
        }
      ]
    },
    {
      "cell_type": "code",
      "metadata": {
        "id": "U3kbcxD6SbUs"
      },
      "source": [
        "def get_trajectories(list_of_platforms, regexp_misinformation, regexp_source):\n",
        "\n",
        "  id_lists = []\n",
        "\n",
        "  if \"twitter\" in list_of_platforms:\n",
        "    id_lists.append(3)\n",
        "\n",
        "  if \"facebook\" in list_of_platforms:\n",
        "    id_lists.append(4)\n",
        "\n",
        "  if \"reddit\" in list_of_platforms:\n",
        "    id_lists.append(5)\n",
        "\n",
        "  if \"4chan\" in list_of_platforms:\n",
        "    id_lists.append(6)\n",
        "\n",
        "  df_multiplatform_ =  df_multiplatform[df_multiplatform[df_multiplatform.iloc[:,id_lists] > 0].count(axis=1) > (len(id_lists) -1)]  \n",
        "  df_trajectories = df_multiplatform_[[\"misinformation\",\"source_credibility\",\"twitter_dt\", \"facebook_dt\", \"reddit_dt\", \"4chan_dt\"]][~df_multiplatform_[[\"twitter_order\", \"facebook_order\", \"reddit_order\", \"4chan_order\"]].isnull().all(1)]\n",
        "  df_trajectories_mis = df_trajectories[[\"twitter_dt\", \"facebook_dt\", \"reddit_dt\", \"4chan_dt\"]][df_trajectories[\"misinformation\"].str.contains(regexp_misinformation, na = False) & df_trajectories[\"source_credibility\"].str.contains(regexp_source, na = False)]\n",
        "  df_trajectories_mis[\"twitter_dt\"] = df_trajectories_mis[\"twitter_dt\"].apply(lambda d: np.asarray(d , dtype=np.double)if isinstance(d, list) else [])\n",
        "  df_trajectories_mis[\"facebook_dt\"] = df_trajectories_mis[\"facebook_dt\"].apply(lambda d: np.asarray(d , dtype=np.double) if isinstance(d, list) else [])\n",
        "  df_trajectories_mis[\"reddit_dt\"] = df_trajectories_mis[\"reddit_dt\"].apply(lambda d: np.asarray(d , dtype=np.double) if isinstance(d, list) else [])\n",
        "  df_trajectories_mis[\"4chan_dt\"] = df_trajectories_mis[\"4chan_dt\"].apply(lambda d: np.asarray(d , dtype=np.double) if isinstance(d, list) else [])\n",
        "\n",
        "  dt_lists = [name + \"_dt\" for name in list_of_platforms]\n",
        "\n",
        "  trajectories = df_trajectories_mis[dt_lists].values.tolist()\n",
        "\n",
        "  if \"twitter\" in list_of_platforms:\n",
        "    minimum = 1901000\n",
        "  else:\n",
        "    res = [min(l)  for q in trajectories for l in q]    \n",
        "    minimum = min(res)\n",
        "  trajectories_normalized = []\n",
        "  for url in trajectories:\n",
        "    list_of_platforms = []\n",
        "    for platform in url:\n",
        "      platform_ = platform[platform >= minimum] \n",
        "      plarform__ = (platform_ - minimum)/60\n",
        "      list_of_platforms.append(plarform__)\n",
        "    trajectories_normalized.append(list_of_platforms)\n",
        "\n",
        "  return(trajectories_normalized)"
      ],
      "execution_count": null,
      "outputs": []
    },
    {
      "cell_type": "code",
      "metadata": {
        "id": "LZd9X7DYZxGp"
      },
      "source": [
        "platform_list = [\"facebook\",\"twitter\",\"reddit\",\"4chan\"]\n",
        "\n",
        "def hawkes_process_calculation(misinformation_rgx):\n",
        "    platform_combinations = [(0,1), (0,2), (0,3), (1,2), (1,3), (2,3)]\n",
        "\n",
        "    amplitudes = np.arange(16.0).reshape(4,4)\n",
        "    amplitudes_combination = []\n",
        "    for combination in platform_combinations: \n",
        "          platform_c = [platform_list[combination[0]], platform_list[combination[1]]]\n",
        "          trajectories_all = get_trajectories(platform_c, regexp_misinformation = misinformation_rgx, regexp_source=\"0|1|2\" )\n",
        "          length = len(trajectories_all)\n",
        "          decays = [[0.000000001],[0.00000001],[0.0000001],[0.000001],[0.00001],[0.00005], [0.0001], [0.0002],[0.0003],[0.0004], [0.0005], [0.001], [0.002], [0.003], [0.004], [0.005], [0.006], [0.007], [0.008], [0.009], [0.01]]\n",
        "          c_values = [0.1]\n",
        "          scores = []\n",
        "          c_val = []\n",
        "          max_a = []\n",
        "          learners = []\n",
        "          for c_ in c_values: \n",
        "            for decay in decays:\n",
        "              learner = HawkesSumExpKern(decay, penalty='l2', C=c_)\n",
        "              learner.fit(trajectories_all[:int(0.8*length)])\n",
        "              score = learner.score(trajectories_all[int(0.8*length):])\n",
        "              if np.max(learner.adjacency)*decay[0] < decay[0] and np.max(learner.adjacency) <= 1:\n",
        "                scores.append(score)\n",
        "                c_val.append(c_)\n",
        "                max_a.append(np.max(learner.adjacency))\n",
        "                learners.append(learner)\n",
        "\n",
        "          best_decay = decays[scores.index(max(scores))]\n",
        "          best_c = c_val[scores.index(max(scores))]\n",
        "          max_a_ = max_a[scores.index(max(scores))]\n",
        "          best_learner = learners[scores.index(max(scores))]\n",
        "          amplitudes_combination.append((platform_c, best_learner.adjacency))\n",
        "          amplitudes[combination[0]][combination[0]] = best_learner.adjacency[0][0][0]\n",
        "          amplitudes[combination[0]][combination[1]] = best_learner.adjacency[0][1][0]\n",
        "          amplitudes[combination[1]][combination[0]] = best_learner.adjacency[1][0][0]\n",
        "          amplitudes[combination[1]][combination[1]] = best_learner.adjacency[1][1][0]\n",
        "\n",
        "          print(\"best_decay: \", best_decay, \"best_c: \", best_c, \" score : \", max(scores), \"max a: \", max_a_ )\n",
        "          print(scores)\n",
        "    return amplitudes"
      ],
      "execution_count": null,
      "outputs": []
    },
    {
      "cell_type": "code",
      "metadata": {
        "id": "eIdqW6edaxfR"
      },
      "source": [
        "%%capture capt\n",
        "amplitudes_non_conspiracy = hawkes_process_calculation(\"0\")\n",
        "amplitudes_conspiracy = hawkes_process_calculation(\"1\")"
      ],
      "execution_count": null,
      "outputs": []
    },
    {
      "cell_type": "code",
      "metadata": {
        "id": "fxecze3iSq7z"
      },
      "source": [
        "def make_colormap(seq):\n",
        "    \"\"\"Return a LinearSegmentedColormap\n",
        "    seq: a sequence of floats and RGB-tuples. The floats should be increasing\n",
        "    and in the interval (0,1).\n",
        "    \"\"\"\n",
        "    seq = [(None,) * 3, 0.0] + list(seq) + [1.0, (None,) * 3]\n",
        "    cdict = {'red': [], 'green': [], 'blue': []}\n",
        "    for i, item in enumerate(seq):\n",
        "        if isinstance(item, float):\n",
        "            r1, g1, b1 = seq[i - 1]\n",
        "            r2, g2, b2 = seq[i + 1]\n",
        "            cdict['red'].append([item, r1, r2])\n",
        "            cdict['green'].append([item, g1, g2])\n",
        "            cdict['blue'].append([item, b1, b2])\n",
        "    return mcolors.LinearSegmentedColormap('CustomMap', cdict)\n",
        "\n",
        "c = mcolors.ColorConverter().to_rgb\n",
        "rvb = make_colormap([c('white'),c('pink'), 0.33, c('pink'), 0.66, c('pink'), c('black')])"
      ],
      "execution_count": null,
      "outputs": []
    },
    {
      "cell_type": "code",
      "metadata": {
        "id": "5QXob6d2SwdJ",
        "colab": {
          "base_uri": "https://localhost:8080/",
          "height": 482
        },
        "outputId": "e07e81f8-b128-4399-c7ad-59518ebc6fb7"
      },
      "source": [
        "pcolor_kwargs = {}\n",
        "pcolor_kwargs.setdefault(\"cmap\", rvb)\n",
        "max_amp = np.max(amplitudes_conspiracy)\n",
        "pcolor_kwargs.setdefault(\"vmin\", 0)\n",
        "pcolor_kwargs.setdefault(\"vmax\", max_amp)\n",
        "row_labels = ['${} \\\\rightarrow$'.format(i) for i in platform_list]\n",
        "column_labels = ['$\\\\rightarrow {}$'.format(i) for i in platform_list]\n",
        "x_label_alignment = 'center'\n",
        "rotate_x_labels = 0.\n",
        "\n",
        "fig, ax = plt.subplots(nrows=1, ncols=2, figsize=(9, 6))\n",
        "fig.suptitle(\"Cross-platform conspiracy dynamics\", fontsize=18, x  = 0.9, y = 1.1)\n",
        "heatmap_1 = ax[0].pcolor(amplitudes_non_conspiracy, **pcolor_kwargs)\n",
        "\n",
        "# put the major ticks at the middle of each cell\n",
        "ax[0].set_xticks(np.arange(amplitudes_non_conspiracy.shape[0]) + 0.5, minor=False)\n",
        "ax[0].set_yticks(np.arange(amplitudes_non_conspiracy.shape[1]) + 0.5, minor=False)\n",
        "\n",
        "# want a more natural, table-like display\n",
        "ax[0].invert_yaxis()\n",
        "ax[0].xaxis.tick_top()\n",
        "\n",
        "ax[0].set_xticklabels(row_labels, minor=False, fontsize=17, \n",
        "                       rotation=rotate_x_labels, ha=x_label_alignment)\n",
        "ax[0].set_yticklabels(column_labels, minor=False, fontsize=17)\n",
        "\n",
        "\n",
        "heatmap_2 = ax[1].pcolor(amplitudes_conspiracy, **pcolor_kwargs)\n",
        "# put the major ticks at the middle of each cell\n",
        "ax[1].set_xticks(np.arange(amplitudes_conspiracy.shape[0]) + 0.5, minor=False)\n",
        "ax[1].set_yticks(np.arange(amplitudes_conspiracy.shape[1]) + 0.5, minor=False)\n",
        "\n",
        "# want a more natural, table-like display\n",
        "ax[1].invert_yaxis()\n",
        "ax[1].xaxis.tick_top()\n",
        "\n",
        "ax[1].set_xticklabels(row_labels, minor=False, fontsize=17, \n",
        "                       rotation=rotate_x_labels, ha=x_label_alignment)\n",
        "ax[1].set_yticklabels(column_labels, minor=False, fontsize=17)\n",
        "\n",
        "fig.subplots_adjust(right=1.6, wspace=0.3)\n",
        "divider = make_axes_locatable(ax[1])\n",
        "cax = divider.append_axes(\"right\", size=\"5%\", pad=0.5)\n",
        "fig.colorbar(heatmap_1, cax=cax)\n",
        "ax[0].set_title('neutral or debunking content', y=-0.1, fontsize=16)\n",
        "ax[1].set_title('content reinforcing conspiracy theories', y=-0.1, fontsize=16)\n",
        "plt.show()"
      ],
      "execution_count": null,
      "outputs": [
        {
          "output_type": "display_data",
          "data": {
            "image/png": "[encoded data removed]",
            "text/plain": [
              "<Figure size 648x432 with 3 Axes>"
            ]
          },
          "metadata": {
            "tags": [],
            "needs_background": "light"
          }
        }
      ]
    },
    {
      "cell_type": "markdown",
      "metadata": {
        "id": "go_ADkEUSzvc"
      },
      "source": [
        "# Finding 2"
      ]
    },
    {
      "cell_type": "code",
      "metadata": {
        "id": "lXfjryoIR2NK",
        "colab": {
          "base_uri": "https://localhost:8080/",
          "height": 206
        },
        "outputId": "d544696c-1e3e-4455-9c24-630e567d4fa0"
      },
      "source": [
        "# buzzsumo only includes the reactions and shares for urls classified as misinformation. \n",
        "# Few urls did not appear in buzzsumo (not shared on Fb/twitter) and are missing here too\n",
        "df_buzzsumo = pd.read_csv(path + \"buzzsumo.csv\")\n",
        "df_buzzsumo.head()"
      ],
      "execution_count": null,
      "outputs": [
        {
          "output_type": "execute_result",
          "data": {
            "text/html": [
              "<div>\n",
              "<style scoped>\n",
              "    .dataframe tbody tr th:only-of-type {\n",
              "        vertical-align: middle;\n",
              "    }\n",
              "\n",
              "    .dataframe tbody tr th {\n",
              "        vertical-align: top;\n",
              "    }\n",
              "\n",
              "    .dataframe thead th {\n",
              "        text-align: right;\n",
              "    }\n",
              "</style>\n",
              "<table border=\"1\" class=\"dataframe\">\n",
              "  <thead>\n",
              "    <tr style=\"text-align: right;\">\n",
              "      <th></th>\n",
              "      <th>url_hash</th>\n",
              "      <th>facebook_total_reactions</th>\n",
              "      <th>twitter_shares</th>\n",
              "      <th>source_credibility</th>\n",
              "    </tr>\n",
              "  </thead>\n",
              "  <tbody>\n",
              "    <tr>\n",
              "      <th>0</th>\n",
              "      <td>4</td>\n",
              "      <td>39</td>\n",
              "      <td>18</td>\n",
              "      <td>alternative</td>\n",
              "    </tr>\n",
              "    <tr>\n",
              "      <th>1</th>\n",
              "      <td>12</td>\n",
              "      <td>221</td>\n",
              "      <td>154</td>\n",
              "      <td>socialmedia</td>\n",
              "    </tr>\n",
              "    <tr>\n",
              "      <th>2</th>\n",
              "      <td>19</td>\n",
              "      <td>0</td>\n",
              "      <td>0</td>\n",
              "      <td>mainstream</td>\n",
              "    </tr>\n",
              "    <tr>\n",
              "      <th>3</th>\n",
              "      <td>20</td>\n",
              "      <td>47</td>\n",
              "      <td>9</td>\n",
              "      <td>mainstream</td>\n",
              "    </tr>\n",
              "    <tr>\n",
              "      <th>4</th>\n",
              "      <td>27</td>\n",
              "      <td>199</td>\n",
              "      <td>11000</td>\n",
              "      <td>alternative</td>\n",
              "    </tr>\n",
              "  </tbody>\n",
              "</table>\n",
              "</div>"
            ],
            "text/plain": [
              "   url_hash  facebook_total_reactions  twitter_shares source_credibility\n",
              "0         4                        39              18        alternative\n",
              "1        12                       221             154        socialmedia\n",
              "2        19                         0               0         mainstream\n",
              "3        20                        47               9         mainstream\n",
              "4        27                       199           11000        alternative"
            ]
          },
          "metadata": {
            "tags": []
          },
          "execution_count": 16
        }
      ]
    },
    {
      "cell_type": "code",
      "metadata": {
        "id": "qAwby_NjAYzN"
      },
      "source": [
        "warnings.filterwarnings(\"ignore\")\n",
        "\n",
        "def bar_plot_extended(x_data, y_data, x_data_dots, y_data_dots, title, xlabel, color_lines, color_dots):\n",
        "  fig = plt.figure(figsize=(5, 2))\n",
        "  ax = fig.add_axes([0, 0, 1, 1])\n",
        "  plt.hlines(y=y_data, xmin=0, xmax=x_data, color=color_lines, alpha=0.2, linewidth=20)\n",
        "\n",
        "  # create for each expense type a dot at the level of the expense percentage value\n",
        "  plt.plot(x_data_dots, y_data_dots, \"o\",  markersize=20, color=color_dots, alpha=1)\n",
        "  plt.title(title, fontsize=12, fontweight='black', color = '#333F4B')\n",
        "\n",
        "  # set labels style\n",
        "  ax.set_xlabel(xlabel, fontsize=12, fontweight='black', color = '#333F4B')\n",
        "  ax.set_ylabel('')\n",
        "  # change the style of the axis spines\n",
        "  ax.spines['top'].set_color('none')\n",
        "  ax.spines['right'].set_color('none')\n",
        "  ax.spines['left'].set_smart_bounds(True)\n",
        "  ax.spines['bottom'].set_smart_bounds(True)\n",
        "  ax.spines['bottom'].set_position(('axes', -0.1))\n",
        "  ax.spines['left'].set_position(('axes', 0.015))\n",
        "  ax.set_ylim([-1, 3])\n",
        "  plt.setp(ax.get_yticklabels(), fontweight=\"bold\")\n",
        "  plt.tight_layout() \n",
        "  plt.show()"
      ],
      "execution_count": null,
      "outputs": []
    },
    {
      "cell_type": "code",
      "metadata": {
        "id": "J9RYeswPB_tL",
        "colab": {
          "base_uri": "https://localhost:8080/",
          "height": 239
        },
        "outputId": "32b1c46a-2d4f-4204-d45d-13d4fe1c23ec"
      },
      "source": [
        "mainstream_percentage = df_buzzsumo[df_buzzsumo.source_credibility == \"mainstream\"].shape[0] / df_buzzsumo.shape[0] * 100\n",
        "alternative_percentage = df_buzzsumo[df_buzzsumo.source_credibility == \"alternative\"].shape[0] / df_buzzsumo.shape[0] * 100\n",
        "socialmedia_percentage = df_buzzsumo[df_buzzsumo.source_credibility == \"socialmedia\"].shape[0] / df_buzzsumo.shape[0] * 100\n",
        "\n",
        "source = ['mainstream media', 'alternative media', 'social media & blogs']\n",
        "percent = [mainstream_percentage, alternative_percentage, socialmedia_percentage]\n",
        "\n",
        "bar_plot_extended(percent, source, percent, source, \"diffused content by source\", \"percentage %\", \"#e75480\", \"#8B0000\")"
      ],
      "execution_count": null,
      "outputs": [
        {
          "output_type": "display_data",
          "data": {
            "image/png": "[encoded data removed]",
            "text/plain": [
              "<Figure size 360x144 with 1 Axes>"
            ]
          },
          "metadata": {
            "tags": [],
            "needs_background": "light"
          }
        }
      ]
    },
    {
      "cell_type": "code",
      "metadata": {
        "id": "6up9MJI0AoQu",
        "colab": {
          "base_uri": "https://localhost:8080/",
          "height": 905
        },
        "outputId": "a3907e74-8847-4e82-dbeb-170034f59e2b"
      },
      "source": [
        "fb_median = df_buzzsumo.groupby(\"source_credibility\", as_index=False)[['facebook_total_reactions']].median()\n",
        "tw_median = df_buzzsumo.groupby(\"source_credibility\", as_index=False)[['twitter_shares']].median()\n",
        "fb_sum = df_buzzsumo.groupby(\"source_credibility\", as_index=False)[['facebook_total_reactions']].sum()\n",
        "tw_sum = df_buzzsumo.groupby(\"source_credibility\", as_index=False)[['twitter_shares']].sum()\n",
        "\n",
        "fb_median_mainstream = fb_median[fb_median.source_credibility == \"mainstream\"][\"facebook_total_reactions\"].to_list()[0]\n",
        "fb_median_alternative = fb_median[fb_median.source_credibility == \"alternative\"][\"facebook_total_reactions\"].to_list()[0]\n",
        "fb_median_socialmedia = fb_median[fb_median.source_credibility == \"socialmedia\"][\"facebook_total_reactions\"].to_list()[0]\n",
        "\n",
        "shares = [fb_median_mainstream, fb_median_alternative, fb_median_socialmedia]\n",
        "bar_plot_extended(shares, source, shares[0], source[0],\"median facebook reactions by source\", \"No. of reactions\", \"#007ACC\", \"#007ACC\")\n",
        "\n",
        "tw_median_mainstream = tw_median[tw_median.source_credibility == \"mainstream\"][\"twitter_shares\"].to_list()[0]\n",
        "tw_median_alternative = tw_median[tw_median.source_credibility == \"alternative\"][\"twitter_shares\"].to_list()[0]\n",
        "tw_median_socialmedia = tw_median[tw_median.source_credibility == \"socialmedia\"][\"twitter_shares\"].to_list()[0]\n",
        "\n",
        "shares = [tw_median_mainstream, tw_median_alternative, tw_median_socialmedia]\n",
        "bar_plot_extended(shares, source, shares, source,\"median twitter shares by source\", \"No. of shares\", \"#007ACC\", \"#007ACC\")\n",
        "\n",
        "fb_sum_mainstream = fb_sum[fb_sum.source_credibility == \"mainstream\"][\"facebook_total_reactions\"].to_list()[0]\n",
        "fb_sum_alternative = fb_sum[fb_sum.source_credibility == \"alternative\"][\"facebook_total_reactions\"].to_list()[0]\n",
        "fb_sum_socialmedia = fb_sum[fb_sum.source_credibility == \"socialmedia\"][\"facebook_total_reactions\"].to_list()[0]\n",
        "\n",
        "shares = [fb_sum_mainstream, fb_sum_alternative, fb_sum_socialmedia]\n",
        "bar_plot_extended(shares, source, shares[0:2], source[0:2],\"cumulative facebook reactions by source\", \"No. of reactions\", \"#007ACC\", \"#007ACC\")\n",
        "\n",
        "tw_sum_mainstream = tw_sum[tw_sum.source_credibility == \"mainstream\"][\"twitter_shares\"].to_list()[0]\n",
        "tw_sum_alternative = tw_sum[tw_sum.source_credibility == \"alternative\"][\"twitter_shares\"].to_list()[0]\n",
        "tw_sum_socialmedia = tw_sum[tw_sum.source_credibility == \"socialmedia\"][\"twitter_shares\"].to_list()[0]\n",
        "\n",
        "shares = [tw_sum_mainstream, tw_sum_alternative, tw_sum_socialmedia]\n",
        "bar_plot_extended(shares, source, shares[0:2], source[0:2],\"cumulative twitter shares by source\", \"No. of shares\", \"#007ACC\", \"#007ACC\")"
      ],
      "execution_count": null,
      "outputs": [
        {
          "output_type": "display_data",
          "data": {
            "image/png": "[encoded data removed]",
            "text/plain": [
              "<Figure size 360x144 with 1 Axes>"
            ]
          },
          "metadata": {
            "tags": [],
            "needs_background": "light"
          }
        },
        {
          "output_type": "display_data",
          "data": {
            "image/png": "[encoded data removed]",
            "text/plain": [
              "<Figure size 360x144 with 1 Axes>"
            ]
          },
          "metadata": {
            "tags": [],
            "needs_background": "light"
          }
        },
        {
          "output_type": "display_data",
          "data": {
            "image/png": "[encoded data removed]",
            "text/plain": [
              "<Figure size 360x144 with 1 Axes>"
            ]
          },
          "metadata": {
            "tags": [],
            "needs_background": "light"
          }
        },
        {
          "output_type": "display_data",
          "data": {
            "image/png": "[encoded data removed]",
            "text/plain": [
              "<Figure size 360x144 with 1 Axes>"
            ]
          },
          "metadata": {
            "tags": [],
            "needs_background": "light"
          }
        }
      ]
    },
    {
      "cell_type": "markdown",
      "metadata": {
        "id": "uwiD4EfCw6yu"
      },
      "source": [
        "# Finding 3"
      ]
    },
    {
      "cell_type": "code",
      "metadata": {
        "id": "UKWwmdsET6tM"
      },
      "source": [
        "def get_trajectories_moderated(list_of_platforms, regexp_misinformation, regexp_source, moderated, platform):\n",
        "  \n",
        "  df_multiplatform_ = df_multiplatform\n",
        "\n",
        "  for pl in platform:\n",
        "    col_banned = pl + \"_banned\"\n",
        "    if moderated == True:\n",
        "        df_multiplatform_ = df_multiplatform_[df_multiplatform_[col_banned] > 0]\n",
        "    else:\n",
        "        df_multiplatform_ = df_multiplatform_[df_multiplatform_[col_banned] == 0]\n",
        "\n",
        "  id_lists = []\n",
        "\n",
        "  if \"twitter\" in list_of_platforms:\n",
        "    id_lists.append(3)\n",
        "\n",
        "  if \"facebook\" in list_of_platforms:\n",
        "    id_lists.append(4)\n",
        "\n",
        "  if \"reddit\" in list_of_platforms:\n",
        "    id_lists.append(5)\n",
        "\n",
        "  if \"4chan\" in list_of_platforms:\n",
        "    id_lists.append(6)\n",
        "\n",
        "  df_multiplatform_ =  df_multiplatform_[df_multiplatform_[df_multiplatform_.iloc[:,id_lists] > 0].count(axis=1) > (len(id_lists) -1)]  \n",
        "  df_trajectories = df_multiplatform_[[\"misinformation\",\"source_credibility\",\"twitter_dt\", \"facebook_dt\", \"reddit_dt\", \"4chan_dt\"]][~df_multiplatform_[[\"twitter_order\", \"facebook_order\", \"reddit_order\", \"4chan_order\"]].isnull().all(1)]\n",
        "  df_trajectories_mis = df_trajectories[[\"twitter_dt\", \"facebook_dt\", \"reddit_dt\", \"4chan_dt\"]][df_trajectories[\"misinformation\"].str.contains(regexp_misinformation, na = False) & df_trajectories[\"source_credibility\"].str.contains(regexp_source, na = False)]\n",
        "  df_trajectories_mis[\"twitter_dt\"] = df_trajectories_mis[\"twitter_dt\"].apply(lambda d: np.asarray(d , dtype=np.double)if isinstance(d, list) else [])\n",
        "  df_trajectories_mis[\"facebook_dt\"] = df_trajectories_mis[\"facebook_dt\"].apply(lambda d: np.asarray(d , dtype=np.double) if isinstance(d, list) else [])\n",
        "  df_trajectories_mis[\"reddit_dt\"] = df_trajectories_mis[\"reddit_dt\"].apply(lambda d: np.asarray(d , dtype=np.double) if isinstance(d, list) else [])\n",
        "  df_trajectories_mis[\"4chan_dt\"] = df_trajectories_mis[\"4chan_dt\"].apply(lambda d: np.asarray(d , dtype=np.double) if isinstance(d, list) else [])\n",
        "\n",
        "  dt_lists = [name + \"_dt\" for name in list_of_platforms]\n",
        "\n",
        "  trajectories = df_trajectories_mis[dt_lists].values.tolist()\n",
        "  if \"twitter\" in list_of_platforms:\n",
        "    minimum = 1901000\n",
        "  else:\n",
        "    res = [min(l)  for q in trajectories for l in q]    \n",
        "    minimum = min(res)\n",
        "  #print(minimum)\n",
        "  trajectories_normalized = []\n",
        "  for url in trajectories:\n",
        "    list_of_platforms = []\n",
        "    for platform in url:\n",
        "      platform_ = platform[platform >= minimum] \n",
        "      plarform__ = (platform_ - minimum)/60\n",
        "      list_of_platforms.append(plarform__)\n",
        "    trajectories_normalized.append(list_of_platforms)\n",
        "\n",
        "  return(trajectories_normalized)"
      ],
      "execution_count": null,
      "outputs": []
    },
    {
      "cell_type": "code",
      "metadata": {
        "id": "708DOldM_ELS"
      },
      "source": [
        "platform_list = [\"twitter\",\"facebook\",\"reddit\",\"4chan\"]\n",
        "\n",
        "def hawkes_process_calculation_moderation(moderation, combination, plat):\n",
        "    trajectories_all = get_trajectories_moderated([platform_list[combination[0]],platform_list[combination[1]]], \"1\", \"0|1|2\", moderation, [platform_list[plat]])\n",
        "    length = len(trajectories_all)\n",
        "    print(length)\n",
        "    decays = [[0.000000001],[0.00000001],[0.0000001],[0.000001],[0.00001],[0.00005], [0.0001], [0.0002],[0.0003],[0.0004], [0.0005], [0.001], [0.002], [0.003], [0.004], [0.005], [0.006], [0.007], [0.008], [0.009], [0.01], [0.1]]\n",
        "    c_values = [0.1]\n",
        "    scores = []\n",
        "    c_val = []\n",
        "    max_a = []\n",
        "    learners = []\n",
        "    for c_ in c_values: \n",
        "      for decay in decays:\n",
        "        learner = HawkesSumExpKern(decay, penalty='l2', C=c_)\n",
        "        learner.fit(trajectories_all[:int(0.8*length)])\n",
        "        score = learner.score(trajectories_all[int(0.8*length):])\n",
        "        if np.max(learner.adjacency)*decay[0] < decay[0] and np.max(learner.adjacency) <= 1:\n",
        "          scores.append(score)\n",
        "          c_val.append(c_)\n",
        "          max_a.append(np.max(learner.adjacency))\n",
        "          learners.append(learner)\n",
        "  \n",
        "    best_decay = decays[scores.index(max(scores))]\n",
        "    best_c = c_val[scores.index(max(scores))]\n",
        "    max_a_ = max_a[scores.index(max(scores))]\n",
        "    best_learner = learners[scores.index(max(scores))]\n",
        "    return best_learner.adjacency, best_c"
      ],
      "execution_count": null,
      "outputs": []
    },
    {
      "cell_type": "code",
      "metadata": {
        "id": "G5znmZrx_3lE"
      },
      "source": [
        "%%capture\n",
        "platform_list = [\"twitter\",\"facebook\",\"reddit\",\"4chan\"]\n",
        "platform_combinations = [(0,1), (0,2), (0,3), (1,2), (1,3), (2,3)]\n",
        "\n",
        "amplitudes_combination = []\n",
        "\n",
        "for combination in platform_combinations:\n",
        "  for plat in combination:\n",
        "    # 4chan is missing\n",
        "    if plat == 3:\n",
        "        continue\n",
        "    moderated, best_c = hawkes_process_calculation_moderation(True, combination, plat)\n",
        "    unmoderated, best_c_un = hawkes_process_calculation_moderation(False, combination, plat)\n",
        "    amplitudes_combination.append(((platform_list[combination[0]],platform_list[combination[1]]), plat, moderated, unmoderated, best_c, best_c_un))"
      ],
      "execution_count": null,
      "outputs": []
    },
    {
      "cell_type": "code",
      "metadata": {
        "id": "mZJTc63OUHOB"
      },
      "source": [
        "pd.options.display.float_format = '{:,.2f}'.format\n",
        "indexes = [\"moderated\", \"unmoderated\", \"mod_platform\"]\n",
        "\n",
        "df_amplitudes = []\n",
        "for combination in amplitudes_combination:\n",
        "  amplitudes_array_moderated = combination[2].flatten()\n",
        "  amplitudes_array_unmoderated = combination[3].flatten()\n",
        "  names = [\"%s -> %s\" % (combination[0][0], combination[0][0]), \"%s -> %s\" % (combination[0][1], combination[0][0]), \"%s -> %s\" % (combination[0][0], combination[0][1]), \"%s -> %s\" % (combination[0][1], combination[0][1])]\n",
        "  df_temp = pd.DataFrame(np.vstack((amplitudes_array_moderated,amplitudes_array_unmoderated, [platform_list[combination[1]], platform_list[combination[1]],platform_list[combination[1]],platform_list[combination[1]] ])), index=indexes, columns=names)\n",
        "  df_amplitudes.append(df_temp)\n",
        "  "
      ],
      "execution_count": null,
      "outputs": []
    },
    {
      "cell_type": "code",
      "metadata": {
        "id": "CYzJUiCEUNx1",
        "colab": {
          "base_uri": "https://localhost:8080/",
          "height": 990
        },
        "outputId": "3a0d1eb3-3715-41b2-d499-b3750925d0ac"
      },
      "source": [
        "df_platforms = pd.concat([x.T for x in df_amplitudes])\n",
        "df_platforms[\"moderated\"] = df_platforms[\"moderated\"].astype(float)\n",
        "df_platforms[\"unmoderated\"] = df_platforms[\"unmoderated\"].astype(float)\n",
        "\n",
        "df_platforms[\"p_change\"] = df_platforms.apply(lambda x: (x[0]- x[1])/x[1] if x[1] != 0.0 else 1, 1)\n",
        "df_platforms = df_platforms[~df_platforms.index.str.contains(\"^4chan\", na = False)]\n",
        "df_platforms[\"diff\"] = df_platforms[\"moderated\"] - df_platforms[\"unmoderated\"] \n",
        "df_platforms"
      ],
      "execution_count": null,
      "outputs": [
        {
          "output_type": "execute_result",
          "data": {
            "text/html": [
              "<div>\n",
              "<style scoped>\n",
              "    .dataframe tbody tr th:only-of-type {\n",
              "        vertical-align: middle;\n",
              "    }\n",
              "\n",
              "    .dataframe tbody tr th {\n",
              "        vertical-align: top;\n",
              "    }\n",
              "\n",
              "    .dataframe thead th {\n",
              "        text-align: right;\n",
              "    }\n",
              "</style>\n",
              "<table border=\"1\" class=\"dataframe\">\n",
              "  <thead>\n",
              "    <tr style=\"text-align: right;\">\n",
              "      <th></th>\n",
              "      <th>moderated</th>\n",
              "      <th>unmoderated</th>\n",
              "      <th>mod_platform</th>\n",
              "      <th>p_change</th>\n",
              "      <th>diff</th>\n",
              "    </tr>\n",
              "  </thead>\n",
              "  <tbody>\n",
              "    <tr>\n",
              "      <th>twitter -&gt; twitter</th>\n",
              "      <td>0.02</td>\n",
              "      <td>0.99</td>\n",
              "      <td>twitter</td>\n",
              "      <td>-0.98</td>\n",
              "      <td>-0.97</td>\n",
              "    </tr>\n",
              "    <tr>\n",
              "      <th>facebook -&gt; twitter</th>\n",
              "      <td>0.01</td>\n",
              "      <td>0.00</td>\n",
              "      <td>twitter</td>\n",
              "      <td>1.00</td>\n",
              "      <td>0.01</td>\n",
              "    </tr>\n",
              "    <tr>\n",
              "      <th>twitter -&gt; facebook</th>\n",
              "      <td>0.02</td>\n",
              "      <td>0.81</td>\n",
              "      <td>twitter</td>\n",
              "      <td>-0.98</td>\n",
              "      <td>-0.80</td>\n",
              "    </tr>\n",
              "    <tr>\n",
              "      <th>facebook -&gt; facebook</th>\n",
              "      <td>0.02</td>\n",
              "      <td>0.00</td>\n",
              "      <td>twitter</td>\n",
              "      <td>1.00</td>\n",
              "      <td>0.02</td>\n",
              "    </tr>\n",
              "    <tr>\n",
              "      <th>twitter -&gt; twitter</th>\n",
              "      <td>0.03</td>\n",
              "      <td>1.00</td>\n",
              "      <td>facebook</td>\n",
              "      <td>-0.97</td>\n",
              "      <td>-0.97</td>\n",
              "    </tr>\n",
              "    <tr>\n",
              "      <th>facebook -&gt; twitter</th>\n",
              "      <td>0.01</td>\n",
              "      <td>0.00</td>\n",
              "      <td>facebook</td>\n",
              "      <td>8.98</td>\n",
              "      <td>0.01</td>\n",
              "    </tr>\n",
              "    <tr>\n",
              "      <th>twitter -&gt; facebook</th>\n",
              "      <td>0.04</td>\n",
              "      <td>0.00</td>\n",
              "      <td>facebook</td>\n",
              "      <td>1.00</td>\n",
              "      <td>0.04</td>\n",
              "    </tr>\n",
              "    <tr>\n",
              "      <th>facebook -&gt; facebook</th>\n",
              "      <td>0.02</td>\n",
              "      <td>1.00</td>\n",
              "      <td>facebook</td>\n",
              "      <td>-0.98</td>\n",
              "      <td>-0.98</td>\n",
              "    </tr>\n",
              "    <tr>\n",
              "      <th>twitter -&gt; twitter</th>\n",
              "      <td>0.02</td>\n",
              "      <td>0.08</td>\n",
              "      <td>twitter</td>\n",
              "      <td>-0.76</td>\n",
              "      <td>-0.06</td>\n",
              "    </tr>\n",
              "    <tr>\n",
              "      <th>reddit -&gt; twitter</th>\n",
              "      <td>0.02</td>\n",
              "      <td>0.14</td>\n",
              "      <td>twitter</td>\n",
              "      <td>-0.83</td>\n",
              "      <td>-0.11</td>\n",
              "    </tr>\n",
              "    <tr>\n",
              "      <th>twitter -&gt; reddit</th>\n",
              "      <td>0.00</td>\n",
              "      <td>0.01</td>\n",
              "      <td>twitter</td>\n",
              "      <td>-0.82</td>\n",
              "      <td>-0.01</td>\n",
              "    </tr>\n",
              "    <tr>\n",
              "      <th>reddit -&gt; reddit</th>\n",
              "      <td>0.00</td>\n",
              "      <td>0.02</td>\n",
              "      <td>twitter</td>\n",
              "      <td>-0.84</td>\n",
              "      <td>-0.01</td>\n",
              "    </tr>\n",
              "    <tr>\n",
              "      <th>twitter -&gt; twitter</th>\n",
              "      <td>0.03</td>\n",
              "      <td>0.03</td>\n",
              "      <td>reddit</td>\n",
              "      <td>-0.06</td>\n",
              "      <td>-0.00</td>\n",
              "    </tr>\n",
              "    <tr>\n",
              "      <th>reddit -&gt; twitter</th>\n",
              "      <td>0.04</td>\n",
              "      <td>0.02</td>\n",
              "      <td>reddit</td>\n",
              "      <td>0.90</td>\n",
              "      <td>0.02</td>\n",
              "    </tr>\n",
              "    <tr>\n",
              "      <th>twitter -&gt; reddit</th>\n",
              "      <td>0.00</td>\n",
              "      <td>0.02</td>\n",
              "      <td>reddit</td>\n",
              "      <td>-0.86</td>\n",
              "      <td>-0.02</td>\n",
              "    </tr>\n",
              "    <tr>\n",
              "      <th>reddit -&gt; reddit</th>\n",
              "      <td>0.00</td>\n",
              "      <td>0.02</td>\n",
              "      <td>reddit</td>\n",
              "      <td>-0.81</td>\n",
              "      <td>-0.02</td>\n",
              "    </tr>\n",
              "    <tr>\n",
              "      <th>twitter -&gt; twitter</th>\n",
              "      <td>1.00</td>\n",
              "      <td>0.09</td>\n",
              "      <td>twitter</td>\n",
              "      <td>10.36</td>\n",
              "      <td>0.91</td>\n",
              "    </tr>\n",
              "    <tr>\n",
              "      <th>twitter -&gt; 4chan</th>\n",
              "      <td>0.00</td>\n",
              "      <td>0.00</td>\n",
              "      <td>twitter</td>\n",
              "      <td>-1.00</td>\n",
              "      <td>-0.00</td>\n",
              "    </tr>\n",
              "    <tr>\n",
              "      <th>facebook -&gt; facebook</th>\n",
              "      <td>0.05</td>\n",
              "      <td>0.00</td>\n",
              "      <td>facebook</td>\n",
              "      <td>1.00</td>\n",
              "      <td>0.05</td>\n",
              "    </tr>\n",
              "    <tr>\n",
              "      <th>reddit -&gt; facebook</th>\n",
              "      <td>0.06</td>\n",
              "      <td>0.37</td>\n",
              "      <td>facebook</td>\n",
              "      <td>-0.84</td>\n",
              "      <td>-0.31</td>\n",
              "    </tr>\n",
              "    <tr>\n",
              "      <th>facebook -&gt; reddit</th>\n",
              "      <td>0.00</td>\n",
              "      <td>0.00</td>\n",
              "      <td>facebook</td>\n",
              "      <td>1.00</td>\n",
              "      <td>0.00</td>\n",
              "    </tr>\n",
              "    <tr>\n",
              "      <th>reddit -&gt; reddit</th>\n",
              "      <td>0.00</td>\n",
              "      <td>0.98</td>\n",
              "      <td>facebook</td>\n",
              "      <td>-1.00</td>\n",
              "      <td>-0.98</td>\n",
              "    </tr>\n",
              "    <tr>\n",
              "      <th>facebook -&gt; facebook</th>\n",
              "      <td>0.00</td>\n",
              "      <td>1.00</td>\n",
              "      <td>reddit</td>\n",
              "      <td>-1.00</td>\n",
              "      <td>-1.00</td>\n",
              "    </tr>\n",
              "    <tr>\n",
              "      <th>reddit -&gt; facebook</th>\n",
              "      <td>0.02</td>\n",
              "      <td>0.53</td>\n",
              "      <td>reddit</td>\n",
              "      <td>-0.96</td>\n",
              "      <td>-0.51</td>\n",
              "    </tr>\n",
              "    <tr>\n",
              "      <th>facebook -&gt; reddit</th>\n",
              "      <td>0.00</td>\n",
              "      <td>0.00</td>\n",
              "      <td>reddit</td>\n",
              "      <td>1.00</td>\n",
              "      <td>0.00</td>\n",
              "    </tr>\n",
              "    <tr>\n",
              "      <th>reddit -&gt; reddit</th>\n",
              "      <td>0.00</td>\n",
              "      <td>0.45</td>\n",
              "      <td>reddit</td>\n",
              "      <td>-0.99</td>\n",
              "      <td>-0.44</td>\n",
              "    </tr>\n",
              "    <tr>\n",
              "      <th>facebook -&gt; facebook</th>\n",
              "      <td>0.02</td>\n",
              "      <td>1.00</td>\n",
              "      <td>facebook</td>\n",
              "      <td>-0.98</td>\n",
              "      <td>-0.98</td>\n",
              "    </tr>\n",
              "    <tr>\n",
              "      <th>facebook -&gt; 4chan</th>\n",
              "      <td>0.00</td>\n",
              "      <td>1.00</td>\n",
              "      <td>facebook</td>\n",
              "      <td>-1.00</td>\n",
              "      <td>-1.00</td>\n",
              "    </tr>\n",
              "    <tr>\n",
              "      <th>reddit -&gt; reddit</th>\n",
              "      <td>0.02</td>\n",
              "      <td>0.46</td>\n",
              "      <td>reddit</td>\n",
              "      <td>-0.95</td>\n",
              "      <td>-0.44</td>\n",
              "    </tr>\n",
              "    <tr>\n",
              "      <th>reddit -&gt; 4chan</th>\n",
              "      <td>0.02</td>\n",
              "      <td>0.65</td>\n",
              "      <td>reddit</td>\n",
              "      <td>-0.96</td>\n",
              "      <td>-0.63</td>\n",
              "    </tr>\n",
              "  </tbody>\n",
              "</table>\n",
              "</div>"
            ],
            "text/plain": [
              "                      moderated  unmoderated mod_platform  p_change  diff\n",
              "twitter -> twitter         0.02         0.99      twitter     -0.98 -0.97\n",
              "facebook -> twitter        0.01         0.00      twitter      1.00  0.01\n",
              "twitter -> facebook        0.02         0.81      twitter     -0.98 -0.80\n",
              "facebook -> facebook       0.02         0.00      twitter      1.00  0.02\n",
              "twitter -> twitter         0.03         1.00     facebook     -0.97 -0.97\n",
              "facebook -> twitter        0.01         0.00     facebook      8.98  0.01\n",
              "twitter -> facebook        0.04         0.00     facebook      1.00  0.04\n",
              "facebook -> facebook       0.02         1.00     facebook     -0.98 -0.98\n",
              "twitter -> twitter         0.02         0.08      twitter     -0.76 -0.06\n",
              "reddit -> twitter          0.02         0.14      twitter     -0.83 -0.11\n",
              "twitter -> reddit          0.00         0.01      twitter     -0.82 -0.01\n",
              "reddit -> reddit           0.00         0.02      twitter     -0.84 -0.01\n",
              "twitter -> twitter         0.03         0.03       reddit     -0.06 -0.00\n",
              "reddit -> twitter          0.04         0.02       reddit      0.90  0.02\n",
              "twitter -> reddit          0.00         0.02       reddit     -0.86 -0.02\n",
              "reddit -> reddit           0.00         0.02       reddit     -0.81 -0.02\n",
              "twitter -> twitter         1.00         0.09      twitter     10.36  0.91\n",
              "twitter -> 4chan           0.00         0.00      twitter     -1.00 -0.00\n",
              "facebook -> facebook       0.05         0.00     facebook      1.00  0.05\n",
              "reddit -> facebook         0.06         0.37     facebook     -0.84 -0.31\n",
              "facebook -> reddit         0.00         0.00     facebook      1.00  0.00\n",
              "reddit -> reddit           0.00         0.98     facebook     -1.00 -0.98\n",
              "facebook -> facebook       0.00         1.00       reddit     -1.00 -1.00\n",
              "reddit -> facebook         0.02         0.53       reddit     -0.96 -0.51\n",
              "facebook -> reddit         0.00         0.00       reddit      1.00  0.00\n",
              "reddit -> reddit           0.00         0.45       reddit     -0.99 -0.44\n",
              "facebook -> facebook       0.02         1.00     facebook     -0.98 -0.98\n",
              "facebook -> 4chan          0.00         1.00     facebook     -1.00 -1.00\n",
              "reddit -> reddit           0.02         0.46       reddit     -0.95 -0.44\n",
              "reddit -> 4chan            0.02         0.65       reddit     -0.96 -0.63"
            ]
          },
          "metadata": {
            "tags": []
          },
          "execution_count": 24
        }
      ]
    },
    {
      "cell_type": "code",
      "metadata": {
        "id": "Jr3wzDzoKTdO",
        "colab": {
          "base_uri": "https://localhost:8080/",
          "height": 127
        },
        "outputId": "160f06e3-c88d-43f7-c7d8-2d894d8a88b7"
      },
      "source": [
        "df_platforms[\"from\"], df_platforms[\"to\"] = zip(*df_platforms.index.str.split(\" -> \").tolist())\n",
        "print(\"In-platform effects\")\n",
        "df_in = df_platforms[df_platforms.apply(lambda x: x[\"from\"]==x[\"to\"]==x[\"mod_platform\"], 1)]\n",
        "df_in.groupby(\"mod_platform\").mean()[\"diff\"]/df_in.groupby(\"mod_platform\").mean()[\"unmoderated\"]"
      ],
      "execution_count": null,
      "outputs": [
        {
          "output_type": "stream",
          "text": [
            "In-platform effects\n"
          ],
          "name": "stdout"
        },
        {
          "output_type": "execute_result",
          "data": {
            "text/plain": [
              "mod_platform\n",
              "facebook   -0.96\n",
              "reddit     -0.97\n",
              "twitter    -0.10\n",
              "dtype: float64"
            ]
          },
          "metadata": {
            "tags": []
          },
          "execution_count": 25
        }
      ]
    },
    {
      "cell_type": "code",
      "metadata": {
        "id": "HB5I3bTEKqgw",
        "colab": {
          "base_uri": "https://localhost:8080/",
          "height": 127
        },
        "outputId": "8c856595-77bf-477a-d36c-8c422762e497"
      },
      "source": [
        "print(\"Cross-platform effects\")\n",
        "df_out = df_platforms[df_platforms.apply(lambda x: (x[\"from\"]!=x[\"to\"]) & (x[\"from\"]==x[\"mod_platform\"]), 1)]\n",
        "df_out.groupby(\"mod_platform\").mean()[\"diff\"]/df_out.groupby(\"mod_platform\").mean()[\"unmoderated\"]"
      ],
      "execution_count": null,
      "outputs": [
        {
          "output_type": "stream",
          "text": [
            "Cross-platform effects\n"
          ],
          "name": "stdout"
        },
        {
          "output_type": "execute_result",
          "data": {
            "text/plain": [
              "mod_platform\n",
              "facebook   -0.99\n",
              "reddit     -0.93\n",
              "twitter    -0.98\n",
              "dtype: float64"
            ]
          },
          "metadata": {
            "tags": []
          },
          "execution_count": 26
        }
      ]
    },
    {
      "cell_type": "code",
      "metadata": {
        "id": "3skMf9BlKzDG",
        "colab": {
          "base_uri": "https://localhost:8080/",
          "height": 90
        },
        "outputId": "1322ee3e-dfc4-481d-884f-e33374a9c6f5"
      },
      "source": [
        "print(\"Overall effects\")\n",
        "print(\"facebook\", ( df_platforms[df_platforms.index.str.contains(\"^facebook\", na = False)][\"moderated\"].mean()  - df_platforms[df_platforms.index.str.contains(\"^facebook\", na = False)][\"unmoderated\"].mean() )/df_platforms[df_platforms.index.str.contains(\"^facebook\", na = False)][\"unmoderated\"].mean())\n",
        "print(\"reddit\", ( df_platforms[df_platforms.index.str.contains(\"^twitter\", na = False)][\"moderated\"].mean()  - df_platforms[df_platforms.index.str.contains(\"^twitter\", na = False)][\"unmoderated\"].mean() )/df_platforms[df_platforms.index.str.contains(\"^twitter\", na = False)][\"unmoderated\"].mean())\n",
        "print(\"twitter\", ( df_platforms[df_platforms.index.str.contains(\"^reddit\", na = False)][\"moderated\"].mean()  - df_platforms[df_platforms.index.str.contains(\"^reddit\", na = False)][\"unmoderated\"].mean() )/df_platforms[df_platforms.index.str.contains(\"^reddit\", na = False)][\"unmoderated\"].mean())"
      ],
      "execution_count": null,
      "outputs": [
        {
          "output_type": "stream",
          "text": [
            "Overall effects\n",
            "facebook -0.9691567216256533\n",
            "reddit -0.6195335425705961\n",
            "twitter -0.9442188556608188\n"
          ],
          "name": "stdout"
        }
      ]
    },
    {
      "cell_type": "markdown",
      "metadata": {
        "id": "aVfvFajZF_mQ"
      },
      "source": [
        "# Finding 4"
      ]
    },
    {
      "cell_type": "code",
      "metadata": {
        "id": "JlQs85itdGkA"
      },
      "source": [
        "twitter_banned = pd.read_csv(path + \"twitter_banned.csv\")\n",
        "facebook_banned = pd.read_csv(path + \"facebook_banned.csv\")\n",
        "reddit_banned = pd.read_csv(path + \"reddit_banned.csv\")\n",
        "youtube_banned = pd.read_csv(path + \"youtube_banned.csv\")"
      ],
      "execution_count": null,
      "outputs": []
    },
    {
      "cell_type": "code",
      "metadata": {
        "id": "SsPhbUWJdHSX"
      },
      "source": [
        "twitter_march = twitter_banned[twitter_banned[\"banned_march\"].isin([\"R\", \"F\"])].shape[0] / twitter_banned.shape[0] * 100\n",
        "twitter_april = twitter_banned[twitter_banned[\"banned_april\"].isin([\"R\", \"F\"])].shape[0] / twitter_banned.shape[0] * 100\n",
        "facebook_march = facebook_banned[facebook_banned[\"banned_march\"].isin([\"R\", \"F\"])].shape[0] / facebook_banned.shape[0] * 100\n",
        "facebook_april = facebook_banned[facebook_banned[\"banned_april\"].isin([\"R\", \"F\"])].shape[0] / facebook_banned.shape[0] * 100\n",
        "reddit_march = reddit_banned[reddit_banned[\"banned_march\"].isin([\"R\", \"F\"])].shape[0] / reddit_banned.shape[0] * 100\n",
        "reddit_april = reddit_banned[reddit_banned[\"banned_april\"].isin([\"R\", \"F\"])].shape[0] / reddit_banned.shape[0] * 100\n",
        "youtube_march = youtube_banned[youtube_banned[\"banned_march\"].isin([\"R\", \"F\"])].shape[0] / youtube_banned.shape[0] * 100\n",
        "youtube_april = youtube_banned[youtube_banned[\"banned_april\"].isin([\"R\", \"F\"])].shape[0] / youtube_banned.shape[0] * 100"
      ],
      "execution_count": null,
      "outputs": []
    },
    {
      "cell_type": "code",
      "metadata": {
        "id": "H2UsE08cOMnT",
        "colab": {
          "base_uri": "https://localhost:8080/",
          "height": 369
        },
        "outputId": "128b8de1-33c3-4358-b3ff-e8c0c6704980"
      },
      "source": [
        "fig = plt.figure(figsize=(5, 4))\n",
        "ax = fig.add_axes([0, 0, 1, 1])\n",
        "source = [0, 0.6, 1.5, 2.1, 3, 3.6, 4.5, 5.1]\n",
        "percent = [youtube_april, youtube_march, facebook_april, facebook_march, twitter_april, twitter_march, reddit_april, reddit_march]\n",
        "plt.hlines(y=source, xmin=0, xmax=percent,colors=[\"#e75480\", '#007ACC', \"#e75480\", '#007ACC', \"#e75480\", '#007ACC', \"#e75480\", '#007ACC'], alpha=0.2, linewidth=20)\n",
        "plt.yticks([0.2, 1.7, 3.2, 4.7],['youtube', 'facebook', 'twitter', 'reddit'])\n",
        "\n",
        "\n",
        "# create for each expense type a dot at the level of the expense percentage value\n",
        "colors = ['#8B0000', '#007ACC', '#8B0000', '#007ACC', '#8B0000', '#007ACC', '#8B0000', '#007ACC']\n",
        "for i,_ in enumerate(percent):\n",
        "  plt.plot(percent[i], source[i], \"o\",color=colors[i], markersize=20, alpha=1)\n",
        "\n",
        "import matplotlib.patches as mpatches\n",
        "\n",
        "red_patch = mpatches.Patch(color='#e75480', alpha=0.2, label='May 2020')\n",
        "blue_patch = mpatches.Patch(color='#007ACC', alpha=0.2, label='April 2020')\n",
        "\n",
        "plt.legend(handles=[blue_patch, red_patch], title=\"checked in\", loc=4, fancybox=True)\n",
        "\n",
        "plt.title(\"proportion of banned content by platform\", fontsize=12, fontweight='black', color = '#333F4B')\n",
        "\n",
        "# set labels style\n",
        "ax.set_xlabel('Percentage', fontsize=12, fontweight='black', color = '#333F4B')\n",
        "ax.set_ylabel('')\n",
        "# change the style of the axis spines\n",
        "ax.spines['top'].set_color('none')\n",
        "ax.spines['right'].set_color('none')\n",
        "ax.spines['left'].set_smart_bounds(True)\n",
        "ax.spines['bottom'].set_smart_bounds(True)\n",
        "ax.spines['bottom'].set_position(('axes', 0.0))\n",
        "ax.spines['left'].set_position(('axes', 0.015))\n",
        "ax.set_ylim([-1,6])\n",
        "plt.setp(ax.get_yticklabels(), fontweight=\"bold\")\n",
        "plt.tight_layout() \n",
        "plt.show()\n"
      ],
      "execution_count": null,
      "outputs": [
        {
          "output_type": "display_data",
          "data": {
            "image/png": "[encoded data removed]",
            "text/plain": [
              "<Figure size 360x288 with 1 Axes>"
            ]
          },
          "metadata": {
            "tags": [],
            "needs_background": "light"
          }
        }
      ]
    },
    {
      "cell_type": "code",
      "metadata": {
        "id": "TNShbYOVYlDK",
        "colab": {
          "base_uri": "https://localhost:8080/",
          "height": 369
        },
        "outputId": "10dec35e-0987-4a63-bae4-2372f3fa9293"
      },
      "source": [
        "fig = plt.figure(figsize=(5,4))\n",
        "ax = fig.add_axes([0,0,1,1])\n",
        "source = [0,0.6,1.2, 2,2.6,3.2, 4,4.6,5.2]\n",
        "percent = [4.617117117117117, 13.967258794845003, 6.6543438077634, 36.27535143255714, 45.72227510709186, 47.68133174791914, 23.809523809523808, 28.57142857142857, 44.742729306487694]\n",
        "\n",
        "\n",
        "plt.hlines(y=source, xmin=0, xmax=percent,colors=['#007ACC',\"#e75480\",\"#000000\",'#007ACC',\"#e75480\",\"#000000\",'#007ACC',\"#e75480\",\"#000000\"], alpha=0.1, linewidth=20)\n",
        "plt.yticks([0.6,2.6,4.6],['facebook', 'twitter', 'reddit'])\n",
        "\n",
        "\n",
        "# create for each expense type a dot at the level of the expense percentage value\n",
        "colors = ['#007ACC','#8B0000','#000000','#007ACC','#8B0000','#000000','#007ACC','#8B0000','#000000']\n",
        "for i,_ in enumerate(percent):\n",
        "  plt.plot(percent[i], source[i], \"o\",color=colors[i], markersize=20, alpha=1)\n",
        "\n",
        "import matplotlib.patches as mpatches\n",
        "\n",
        "black_patch = mpatches.Patch(color='#000000', alpha=0.2, label='social media & blogs')\n",
        "red_patch = mpatches.Patch(color='#e75480', alpha=0.2, label='alternative media')\n",
        "blue_patch = mpatches.Patch(color='#007ACC', alpha=0.2, label='mainstream media')\n",
        "\n",
        "plt.legend(handles=[black_patch, red_patch,blue_patch], loc=4, fancybox=True)\n",
        "\n",
        "#ax.bar(source,percent)\n",
        "plt.title(\"source of banned content by platform\", fontsize=12, fontweight='black', color = '#333F4B')\n",
        "\n",
        "# set labels style\n",
        "ax.set_xlabel('Relative percentage', fontsize=12, fontweight='black', color = '#333F4B')\n",
        "ax.set_ylabel('')\n",
        "# change the style of the axis spines\n",
        "ax.spines['top'].set_color('none')\n",
        "ax.spines['right'].set_color('none')\n",
        "ax.spines['left'].set_smart_bounds(True)\n",
        "ax.spines['bottom'].set_smart_bounds(True)\n",
        "ax.spines['bottom'].set_position(('axes', 0.0))\n",
        "ax.spines['left'].set_position(('axes', 0.015))\n",
        "ax.set_ylim([-1,6])\n",
        "plt.setp(ax.get_yticklabels(), fontweight=\"bold\")\n",
        "plt.tight_layout() \n",
        "plt.show()"
      ],
      "execution_count": null,
      "outputs": [
        {
          "output_type": "display_data",
          "data": {
            "image/png": "[encoded data removed]",
            "text/plain": [
              "<Figure size 360x288 with 1 Axes>"
            ]
          },
          "metadata": {
            "tags": [],
            "needs_background": "light"
          }
        }
      ]
    }
  ]
}